{
  "nbformat": 4,
  "nbformat_minor": 0,
  "metadata": {
    "colab": {
      "provenance": []
    },
    "kernelspec": {
      "name": "python3",
      "display_name": "Python 3"
    },
    "language_info": {
      "name": "python"
    }
  },
  "cells": [
    {
      "cell_type": "markdown",
      "source": [
        " Load the Dataset"
      ],
      "metadata": {
        "id": "idLJrFrowoQI"
      }
    },
    {
      "cell_type": "code",
      "execution_count": null,
      "metadata": {
        "colab": {
          "base_uri": "https://localhost:8080/"
        },
        "id": "AjMfFXZ0ulfB",
        "outputId": "bd9716dd-a01e-4cb0-c573-7ed466b3acdf"
      },
      "outputs": [
        {
          "output_type": "stream",
          "name": "stdout",
          "text": [
            "   tweet_id       entity sentiment  \\\n",
            "0      2401  Borderlands  Positive   \n",
            "1      2401  Borderlands  Positive   \n",
            "2      2401  Borderlands  Positive   \n",
            "3      2401  Borderlands  Positive   \n",
            "4      2401  Borderlands  Positive   \n",
            "\n",
            "                                             content  \n",
            "0  im getting on borderlands and i will murder yo...  \n",
            "1  I am coming to the borders and I will kill you...  \n",
            "2  im getting on borderlands and i will kill you ...  \n",
            "3  im coming on borderlands and i will murder you...  \n",
            "4  im getting on borderlands 2 and i will murder ...  \n",
            "<class 'pandas.core.frame.DataFrame'>\n",
            "RangeIndex: 74682 entries, 0 to 74681\n",
            "Data columns (total 4 columns):\n",
            " #   Column     Non-Null Count  Dtype \n",
            "---  ------     --------------  ----- \n",
            " 0   tweet_id   74682 non-null  int64 \n",
            " 1   entity     74682 non-null  object\n",
            " 2   sentiment  74682 non-null  object\n",
            " 3   content    73996 non-null  object\n",
            "dtypes: int64(1), object(3)\n",
            "memory usage: 2.3+ MB\n",
            "None\n",
            "sentiment\n",
            "Negative      22542\n",
            "Positive      20832\n",
            "Neutral       18318\n",
            "Irrelevant    12990\n",
            "Name: count, dtype: int64\n"
          ]
        }
      ],
      "source": [
        "import pandas as pd\n",
        "\n",
        "# Load the dataset, providing column names since they are not in the file\n",
        "file_path = '/content/twitter_training.csv'\n",
        "df = pd.read_csv(file_path, names=['tweet_id', 'entity', 'sentiment', 'content'])\n",
        "\n",
        "# Inspect the data\n",
        "print(df.head())\n",
        "print(df.info())\n",
        "print(df['sentiment'].value_counts())"
      ]
    },
    {
      "cell_type": "markdown",
      "source": [
        "Data Cleaning"
      ],
      "metadata": {
        "id": "rwGqjzdSwtie"
      }
    },
    {
      "cell_type": "code",
      "source": [
        " #Check for missing values\n",
        "print(df.isnull().sum())\n",
        "\n",
        "# If there are missing values in critical columns, drop or fill them\n",
        "df.dropna(subset=['content', 'sentiment'], inplace=True) # Replace 'text' with 'content'"
      ],
      "metadata": {
        "colab": {
          "base_uri": "https://localhost:8080/"
        },
        "id": "Pxf_vYlEwPjp",
        "outputId": "b098c986-a6de-41ee-d6a2-1abf0e2d8b1a"
      },
      "execution_count": null,
      "outputs": [
        {
          "output_type": "stream",
          "name": "stdout",
          "text": [
            "tweet_id       0\n",
            "entity         0\n",
            "sentiment      0\n",
            "content      686\n",
            "dtype: int64\n"
          ]
        }
      ]
    },
    {
      "cell_type": "markdown",
      "source": [
        "Sentiment Distribution"
      ],
      "metadata": {
        "id": "GRsHnFGCwydx"
      }
    },
    {
      "cell_type": "code",
      "source": [
        "import matplotlib.pyplot as plt\n",
        "import seaborn as sns\n",
        "\n",
        "# Visualize sentiment distribution\n",
        "plt.figure(figsize=(8, 5))\n",
        "sns.countplot(x='sentiment', data=df, palette='viridis')\n",
        "plt.title('Overall Sentiment Distribution')\n",
        "plt.show()\n"
      ],
      "metadata": {
        "colab": {
          "base_uri": "https://localhost:8080/",
          "height": 574
        },
        "id": "HFUqcbu6wedo",
        "outputId": "9301b1cf-63c8-4284-a298-9f2df4075eea"
      },
      "execution_count": null,
      "outputs": [
        {
          "output_type": "stream",
          "name": "stderr",
          "text": [
            "<ipython-input-7-5dfbef6c5d62>:6: FutureWarning: \n",
            "\n",
            "Passing `palette` without assigning `hue` is deprecated and will be removed in v0.14.0. Assign the `x` variable to `hue` and set `legend=False` for the same effect.\n",
            "\n",
            "  sns.countplot(x='sentiment', data=df, palette='viridis')\n"
          ]
        },
        {
          "output_type": "display_data",
          "data": {
            "text/plain": [
              "<Figure size 800x500 with 1 Axes>"
            ],
            "image/png": "[encoded data removed]"
          },
          "metadata": {}
        }
      ]
    },
    {
      "cell_type": "markdown",
      "source": [
        "Topic/Brand Analysis"
      ],
      "metadata": {
        "id": "4VhcD2m8w1zB"
      }
    },
    {
      "cell_type": "code",
      "source": [
        "# Assuming there is a column 'entity' that indicates the topic or brand\n",
        "# Filter data for a specific brand or topic\n",
        "brand_sentiment = df[df['entity'] == 'YourBrandName']  # Replace with actual brand name\n",
        "\n",
        "# Visualize sentiment distribution for this brand\n",
        "plt.figure(figsize=(8, 5))\n",
        "sns.countplot(x='sentiment', data=brand_sentiment, palette='coolwarm')\n",
        "plt.title('Sentiment Distribution for YourBrandName')\n",
        "plt.show()\n"
      ],
      "metadata": {
        "colab": {
          "base_uri": "https://localhost:8080/",
          "height": 468
        },
        "id": "J9tH_Slmwk0i",
        "outputId": "49b79d39-b39c-485c-dfdc-b057b1b51408"
      },
      "execution_count": null,
      "outputs": [
        {
          "output_type": "display_data",
          "data": {
            "text/plain": [
              "<Figure size 800x500 with 1 Axes>"
            ],
            "image/png": "[encoded data removed]"
          },
          "metadata": {}
        }
      ]
    },
    {
      "cell_type": "markdown",
      "source": [
        "Word Cloud for Sentiment Analysis"
      ],
      "metadata": {
        "id": "LjteDxSPw-xB"
      }
    },
    {
      "cell_type": "code",
      "source": [
        "from wordcloud import WordCloud\n",
        "\n",
        "# Generate word clouds for positive and negative sentiments\n",
        "positive_words = ' '.join(df[df['sentiment'] == 'positive']['content'].dropna()) # Drop any NaN values in the 'content' column\n",
        "negative_words = ' '.join(df[df['sentiment'] == 'negative']['content'].dropna()) # Drop any NaN values in the 'content' column\n",
        "\n",
        "if len(positive_words) > 0:\n",
        "    # Positive sentiment word cloud\n",
        "    wordcloud_positive = WordCloud(width=800, height=400, background_color='white').generate(positive_words)\n",
        "    plt.figure(figsize=(10, 5))\n",
        "    plt.imshow(wordcloud_positive, interpolation='bilinear')\n",
        "    plt.axis('off')\n",
        "    plt.title('Positive Sentiment Word Cloud')\n",
        "    plt.show()\n",
        "else:\n",
        "    print(\"No positive words found to generate word cloud.\")\n",
        "\n",
        "if len(negative_words) > 0:\n",
        "    # Negative sentiment word cloud\n",
        "    wordcloud_negative = WordCloud(width=800, height=400, background_color='black').generate(negative_words)\n",
        "    plt.figure(figsize=(10, 5))\n",
        "    plt.imshow(wordcloud_negative, interpolation='bilinear')\n",
        "    plt.axis('off')\n",
        "    plt.title('Negative Sentiment Word Cloud')\n",
        "    plt.show()\n",
        "else:\n",
        "    print(\"No negative words found to generate word cloud.\")"
      ],
      "metadata": {
        "colab": {
          "base_uri": "https://localhost:8080/"
        },
        "id": "-IoXLb5Vw6oa",
        "outputId": "bf79ed99-8daa-4605-8275-c44c94dcc31e"
      },
      "execution_count": null,
      "outputs": [
        {
          "output_type": "stream",
          "name": "stdout",
          "text": [
            "No positive words found to generate word cloud.\n",
            "No negative words found to generate word cloud.\n"
          ]
        }
      ]
    }
  ]
}